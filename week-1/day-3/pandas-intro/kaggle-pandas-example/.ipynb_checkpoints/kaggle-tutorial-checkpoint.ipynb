{
 "cells": [
  {
   "cell_type": "markdown",
   "metadata": {
    "_cell_guid": "c922b120-888a-41d7-bacb-043234b135aa",
    "_uuid": "69cd0b3f048826670500ba92ef4790f574c76a32"
   },
   "source": [
    "# About this Tutorial\n",
    "* Length: 30 minutes to 1 hour\n",
    "* Prerequisites: Basic programming experience (Python strongly preferred)\n",
    "* Goals: \n",
    "  * Get exposure to fundamental analysis tools\n",
    "  * Fork this kernel \n",
    "  * Make a bare-minimum barplot\n",
    "  * Customize barplots\n",
    "<br><br>"
   ]
  },
  {
   "cell_type": "markdown",
   "metadata": {
    "_cell_guid": "6adbe870-0f79-43bc-a85f-92ca4dc4eb28",
    "_uuid": "f1ed389eb175972d4689e98ff89e246b6b6ffe81"
   },
   "source": [
    "# Table of Contents\n",
    "- Introduction\n",
    "- Dataset\n",
    "- Importing\n",
    "- Dataframes\n",
    "\t- Soccer fields are dataframes\n",
    "- Exploring data\n",
    "\t- Quick tools\n",
    "\t\t- Head and Tail\n",
    "\t\t- Columns\n",
    "\t\t- Index\n",
    "- Wrangling data\n",
    "- Plotting data\n",
    "\t- Bare minimum barplot\n",
    "\t- Subsetting\n",
    "\t- Rotating labels\n",
    "\t- Changing the color palette\n",
    "\t- Main titles and Axis titles\n",
    "- Your turn!\n"
   ]
  },
  {
   "cell_type": "markdown",
   "metadata": {
    "_cell_guid": "fd622ab8-87b3-4324-bfbf-f63b3c9e532c",
    "_execution_state": "idle",
    "_uuid": "2e38e922d36d585cd4efd60d40bfcac7d062cf64"
   },
   "source": [
    "# A Humble Introduction to Data Analysis: <a id=\"#introduction\"></a>\n",
    "\n",
    "---\n",
    "This is a humble introduction to data analysis and is meant for people that are new to data science. Originally, I wanted to create a different tutorial called, \"The Absolute Best and Most Mind Blowing Tutorial You've Ever Heard Of in Regards to Data Science.\" It was going to be descriptive, informative, and it was going to blow your socks off with data lazers and be nothing short of award-winning. But that's, like, way too much work. And also we have to tread lightly around new data scientists because they're like squirrels and run away if you move too fast.\n",
    "\n",
    "![Data Squirrel](https://media.giphy.com/media/l0IyitCtDpBafoAbm/giphy.gif)\n",
    "<br><br>\n",
    "\n",
    "My main goal is to get you involved with the wonderful Kaggle community by getting you into analysis mode right away. Kernel notebooks are a great tool for this because I can type a bunch of jibberish here and you can 'fork' (aka copy) this kernel and build upon my jibberish with your own jibberish! This isn't the kind of tutorial that will make you a pro after reading it. But at the very least, you'll make bargraphs and then who knows? Maybe you print them out and put them on your grandmother's refrigerator or something. Maybe you set up a booth at a data science convention and sell highly-desirable *autographed* versions of your bargraphs. The data world is your oyster (whatever that means)!\n",
    "<br><br>\n",
    "\n"
   ]
  },
  {
   "cell_type": "markdown",
   "metadata": {
    "_cell_guid": "ca765b6d-70af-4b14-8aaf-c15d822409c2",
    "_uuid": "ba9fdd73980c8573793da2d3f3cd5be7acf75c94"
   },
   "source": [
    "We're going to be using a smattering of Matplotlib and Seaborn for making bargraphs in this tutorial. Matplotlib is the main plotting library for Python and Seaborn is a wrapper for Matplotlib. That basically means that Seaborn has some \"high-level\" functions that use matplotlib functions under the hood. Seaborn makes some things easier but we'll still need to use matplotlib functions.\n",
    "<br><br>\n",
    "\n",
    "Without further ado, allow me to introduce our dataset:"
   ]
  },
  {
   "cell_type": "markdown",
   "metadata": {
    "_cell_guid": "7ca121de-ed12-4ab6-a339-d46d684aa352",
    "_uuid": "616d7b6eafb727ebbe814f405ec19e1c3ea4eef4"
   },
   "source": [
    "# Dataset <a id=\"#dataset\"></a>\n",
    "### FAA Wildlife Strikes\n",
    "\n",
    "---\n",
    "This is a dataset that the U.S. Federal Aviation Administration puts together and comes from https://wildlife.faa.gov/, the Wildlife Strike database.  Long story short, Wildlife strikes occur when an aircraft and animal collide (usually birds). As you can probably imagine, that isn't good for anyone, especially the birds. When birds collide with aircraft, pilots fill out a report and submit it to the FAA. The dataset contains information such as the kind of damage done and which phase of flight it occurred. \n",
    "<br><br>\n",
    "\n",
    " "
   ]
  },
  {
   "cell_type": "code",
   "execution_count": 2,
   "metadata": {
    "_cell_guid": "4645d084-ee87-47ad-a817-8cb57d28273f",
    "_execution_state": "idle",
    "_uuid": "52090f508753f0f93447992a781f70ff6d7f06fc"
   },
   "outputs": [],
   "source": [
    "# Numpy is generally used for making fancier lists called arrays and series. \n",
    "import numpy as np \n",
    "\n",
    "# Pandas is super important, it's the foundation data analysis library we're using.\n",
    "import pandas as pd \n",
    "\n",
    "# Matplotlib is the python plotting library and folks generally import it as \"plt\"\n",
    "import matplotlib.pyplot as plt \n",
    "\n",
    "# Seaborn is a wrapper for Matplotlib and makes some things easier, generally imported as \"sns\"\n",
    "import seaborn as sns "
   ]
  },
  {
   "cell_type": "markdown",
   "metadata": {
    "_cell_guid": "ec4532a8-43c7-4985-ae24-19cf36e57b71",
    "_execution_state": "idle",
    "_uuid": "61fd50e0154f336215b4c81b35b54021490c289d"
   },
   "source": [
    "# Importing <a id=\"#importing\"></a>\n",
    "How to get at the data in the CSV file?\n",
    "\n",
    "----\n",
    "\n",
    "By default, Kernels store our datasets in **../input/** \n",
    "\n",
    "We will store the contents of the CSV in a data structure called a **dataframe**\n",
    "\n",
    "- *Pandas.read_csv() puts the contents of a CSV file into a dataframe.*\n",
    "- *We're using the argument low_memory=False because this dataset has some funky datatypes and gives us a warning*"
   ]
  },
  {
   "cell_type": "code",
   "execution_count": 4,
   "metadata": {
    "_cell_guid": "d4072d45-c3c4-4915-840d-488a15b32106",
    "_execution_state": "idle",
    "_uuid": "ca51fc02d120ce5154e1a7875bd8a1c729cb4e81"
   },
   "outputs": [],
   "source": [
    "# Dataset location\n",
    "database = 'database.csv'\n",
    "\n",
    "# Read in a CSV file and store the contents in a dataframe (df)\n",
    "df = pd.read_csv(database, low_memory=False)"
   ]
  },
  {
   "cell_type": "markdown",
   "metadata": {
    "_cell_guid": "dfbcfda3-9546-4dd0-9cda-813c0720b1e7",
    "_execution_state": "idle",
    "_uuid": "ccc0f54e32ee172b77e6279517621841746bd0a8"
   },
   "source": [
    "# Dataframes <a id=\"#dataframes\"></a>\n",
    "### What the heck is a dataframe?\n",
    "\n",
    "---\n",
    "\n",
    "Dataframes are common data structures in data analysis. Here is the definition of a dataframe, straight from the Pandas documentation:\n",
    "\n",
    "> Two-dimensional size-mutable, potentially heterogeneous tabular data structure with labeled axes (rows and columns).\n",
    "\n",
    "In human terms, that means a dataframe has rows and columns, can change size, and possibly has mixed data types (text and/or numbers for example).  "
   ]
  },
  {
   "cell_type": "markdown",
   "metadata": {
    "_cell_guid": "8a6c610d-1d51-4342-bb32-5cb2d0878b9f",
    "_execution_state": "idle",
    "_uuid": "4a653505714f1afc019f7ec96329cda4eaabf5bb"
   },
   "source": [
    "### Soccer Fields are Dataframes<a id=\"#soccer\"></a>\n",
    "\n",
    "--- \n",
    "\n",
    "In terms of structure, consider a soccer field (or a football pitch if you like). A soccer field is a soccer player's playing field. \n",
    "Likewise, dataframes can be thought of as a data scientist's playing field (one of them anyway). We can also say the soccer players represent the data in a dataframe. \n",
    "<br><br>\n",
    "\n",
    "Soccer Field | Soccer Frame  | Soccer Dataframe\n",
    ":-------------------------:|:-------------------------:|:--------------------:\n",
    "<img src=\"http://i.imgur.com/ZEkm8qV.jpg\" alt=\"Soccer Field\" width=\"200\"> | <img src=\"http://i.imgur.com/HO0gADu.jpg\"  alt=\"Data\"  width=\"200\">  |  <img src=\"http://i.imgur.com/cwP0Meo.jpg\"  alt='Dataframe'  width=\"200\">\n",
    "\n",
    "\n",
    "\n",
    "Discalimer: This is possibly not the best representation of a dataframe. But I challenge anyone to make a better graphic in Microsoft Paint! The important thing to take away from this message is that a soccer field and a dataframe are both 2-dimensional structures. "
   ]
  },
  {
   "cell_type": "markdown",
   "metadata": {
    "_cell_guid": "d4a20009-70ce-4f82-9c41-439c9d853c00",
    "_execution_state": "idle",
    "_uuid": "76c2be76335525c26ccf7208cc1a753f032d4979"
   },
   "source": [
    "# Exploring the data <a id=\"#exploring\"></a>\n",
    "### Tools for your toolbox\n",
    "\n",
    "---\n",
    "\n",
    "Data science works kind of like this: \n",
    "1. Examine the data\n",
    "2. Create some hypotheses about the data \n",
    "3. Test the hypotheses\n",
    "4. Report your results\n",
    "<br><br>\n",
    "\n",
    "This tutorial is all about #1, examining the data.  We are going to examine the hell out of this data. We're going to examine the data then make sweet bar graphs about the data. So how do we examine data? You may be surprised to learn that examining data can be accomplished by looking at,  gazing upon, or poking around the data. When we're poking around our data, it's called an Exploratory Data Analysis (EDA) which is literally a fancy phrase for looking at data. While looking at data, you look for relationships and trends (fancy words for lines) to form hypotheses. Data science is all about lines and I personally start foaming at the mouth when I see lines in data. You may or may not also foam at the mouth, it's unclear if thats normal or not.\n",
    "<br><br>\n",
    "\n",
    "\n",
    "And moving on...\n",
    "\n",
    "\n",
    "<img src=\"http://i.imgur.com/cwP0Meo.jpg\" width=200 style=\"float: right; padding: 0 0 0 0;\"> \n",
    "\n",
    "Part of an exploratory data analysis means we need to learn about the rows and columns (aka dimensions) of the dataframe.  If you had never heard of soccer before, you'd probably want to know how far the field was from end to end. That's a terrible example, but still it's fundamentally helpful to get a sense of how \"long\" and \"wide\" your datafame is. \n",
    "\n",
    "This AMAZING DATA VIZ that I created to the right is 3 wide x 3 long, meaning it has 3 rows and 3 columns.\n",
    "\n",
    "The rows are labeled: \n",
    "* Strikers\n",
    "* Midfield\n",
    "* Defense\n",
    "<br><br>\n",
    "\n",
    "The columns are labeled: \n",
    "* Left field\n",
    "* Center\n",
    "* Right field\n",
    "<br><br>\n",
    "\n",
    "\n",
    "If you've gotten this far in life, you probably already know all of that. So now that I've spent entirely too much time drawing and talking about what rows and columns are, let's actually learn about our dataframe's rows and columns... How many are there?\n",
    "\n",
    "\n",
    "\n",
    "In order to get a quick check of the number of rows and columns in our actual dataframe, we can use the **shape** method like this:\n",
    "\n"
   ]
  },
  {
   "cell_type": "code",
   "execution_count": null,
   "metadata": {
    "_cell_guid": "bd206193-c8cc-4a32-9257-ca347398c99c",
    "_execution_state": "idle",
    "_uuid": "1e25a48a2730a977138084981eec0316a76b7124",
    "collapsed": true
   },
   "outputs": [],
   "source": [
    "df.shape"
   ]
  },
  {
   "cell_type": "markdown",
   "metadata": {
    "_cell_guid": "beec6740-8d61-4e64-941b-ee42a4f421d5",
    "_execution_state": "idle",
    "_uuid": "1ef6cb6f11e275d4208f2f3b40caa71d0bc12332"
   },
   "source": [
    "174104 rows and  66 columns\n",
    "\n",
    "> Row then Column is generally how these things are reported. \n",
    "<br><br>\n",
    "\n",
    "There are a ton of methods you can use on your dataframe while your exploring. Here sare some that I use:\n"
   ]
  },
  {
   "cell_type": "markdown",
   "metadata": {
    "_cell_guid": "97ebaae0-6e16-4bf5-9606-27380e2fdc4a",
    "_execution_state": "idle",
    "_uuid": "6b3e252da4bc496f591251715ff6a737f15e7721"
   },
   "source": [
    "\n",
    "### Quick tools<a id=\"#quick\"></a>\n",
    "That I use\n",
    "\n",
    "---\n",
    "1. Shape\n",
    " - I don't actually use shape that much, maybe like once per dataset.\n",
    " \n",
    "2. Head and Tail\n",
    " - I use these the most, they're good for catching mistakes.\n",
    " \n",
    "3. Columns\n",
    " - My short-term memory lasts 30 minutes so I use this every 30 minutes (to remember the column names)\n",
    " \n",
    "4. Index\n",
    " - I use this about 100 times per day for various reasons.\n"
   ]
  },
  {
   "cell_type": "markdown",
   "metadata": {
    "_cell_guid": "2883a666-6f4e-431a-adb6-cc101d23ebf0",
    "_uuid": "10b66a0be9867011ce13dc44f1c02ec05232136f"
   },
   "source": [
    "### Head and Tail <a id=\"#headtail\"></a>\n",
    "Previewing a dataframe\n",
    "\n",
    "---\n",
    "\n",
    "The **head** method shows you the first few rows at the top of the dataframe and **tail** shows you lines at the bottom. By default they show you the first/last 5 rows. I mostly use this to get a quick glance and do a quick scan for unwanted values. In this particular dataset, we don't want values like NA, NaN, UNK, or UNKNOWN.\n",
    "<br><br>"
   ]
  },
  {
   "cell_type": "code",
   "execution_count": null,
   "metadata": {
    "_cell_guid": "f2a7b888-5812-4d9a-8c41-6e5db11f0e62",
    "_execution_state": "idle",
    "_uuid": "66cc17d740abdf15397cf381c8d16c5046e996d0",
    "collapsed": true
   },
   "outputs": [],
   "source": [
    "# Head() the dataframe\n",
    "df.head(4)"
   ]
  },
  {
   "cell_type": "markdown",
   "metadata": {
    "_cell_guid": "c2899ef0-d177-49d7-ada4-a9c56544fa0d",
    "_execution_state": "idle",
    "_uuid": "0cc510a96eee91b9ad542c425cf493b32c42d199"
   },
   "source": [
    "### Columns <a id=\"#columns\"></a>\n",
    " Accessing column names\n",
    "\n",
    "---\n",
    "\n",
    "The **columns** method will show you the names of each column. We can later use the actual column names to filter out data or modify column names. For example, you might want to remove the white spaces in column names."
   ]
  },
  {
   "cell_type": "code",
   "execution_count": null,
   "metadata": {
    "_cell_guid": "6dc58ab9-e0e7-4160-a55f-d9899459f0bc",
    "_execution_state": "idle",
    "_uuid": "38410bda85279091dd4f2802076dd68b96d48142",
    "collapsed": true
   },
   "outputs": [],
   "source": [
    "# Accessing the features (column names)\n",
    "df.columns"
   ]
  },
  {
   "cell_type": "markdown",
   "metadata": {
    "_cell_guid": "4b5c5b97-b9a8-47ae-8d9b-da576dc2a2f7",
    "_execution_state": "idle",
    "_uuid": "12fac7adb954a39d4359c3ec05d86c35249a28d3"
   },
   "source": [
    "\n",
    "### Index <a id=\"#index\"></a>\n",
    "Accessing the index (row names)\n",
    "\n",
    "---\n",
    "\n",
    "The **index** method will show you the names of the rows if they exist. If rows aren't named, then they are indexed by number. Since our dataframe doesn't have named rows, it isn't very informative right now. But sometimes it's helpful so I wanted to include it.\n",
    "\n",
    "[https://pandas.pydata.org/pandas-docs/stable/generated/pandas.Index.html][3]\n",
    "  [3]: https://pandas.pydata.org/pandas-docs/stable/generated/pandas.Index.html"
   ]
  },
  {
   "cell_type": "code",
   "execution_count": null,
   "metadata": {
    "_cell_guid": "2bef01be-80c1-413f-86eb-0de5649522ad",
    "_execution_state": "idle",
    "_uuid": "ac0474d63c09a11aae74929f9e3811f85618318b",
    "collapsed": true
   },
   "outputs": [],
   "source": [
    "# Accessing the index (row names)\n",
    "df.index"
   ]
  },
  {
   "cell_type": "markdown",
   "metadata": {
    "_cell_guid": "5a976142-2837-45b7-ad7d-598de5ea8afe",
    "_execution_state": "idle",
    "_uuid": "df6448726235861b1bcde4d89f3e76599a93facf"
   },
   "source": [
    "# Wrangling <a id=\"#wrangling\"></a>\n",
    "### Splitting data into manageable chunks\n",
    "\n",
    "---\n",
    "\n",
    "In this section I'm going to split the dataframe into a few manageable arrays for you to use when you're making plots. I remember seeing some nasty NA, NaN, and UNKNOWN entries (NULL values) when we were examining the dataframe earlier so I'll clean that up too. For simplicity and maximum graph pretty-ness, I'm going to remove all the rows that have any kind of Null value. These arrays will will be perfect for using as your x- and y-axes in the plots."
   ]
  },
  {
   "cell_type": "code",
   "execution_count": null,
   "metadata": {
    "_cell_guid": "d88b8b8a-ef4d-49f3-861c-272486ce298c",
    "_execution_state": "idle",
    "_uuid": "463d77ae2619bb2974de34bc264fdd386329cf73",
    "collapsed": true
   },
   "outputs": [],
   "source": [
    "# Re-reading the data file to clean up NULL values that make ugly graphs\n",
    "df = pd.read_csv(database,\n",
    "                 low_memory=False,             ### Prevents low_memory warning\n",
    "                 na_values=['UNKNOWN', 'UNK'], ### Adds UNKNOWN and UNK to list of NULLs\n",
    "                 na_filter=True,               ### Detect NA/NaN as actual NULL values\n",
    "                 skip_blank_lines=True)        ### Skip boring blank lines\n"
   ]
  },
  {
   "cell_type": "code",
   "execution_count": null,
   "metadata": {
    "_cell_guid": "d80d2177-e070-4f5a-b6ed-281398f5d943",
    "_execution_state": "idle",
    "_uuid": "1340ef1085ce99e0e92adbb68d93a9eb58e9c134",
    "collapsed": true
   },
   "outputs": [],
   "source": [
    "# These are the columns we're going to take from the original dataframe\n",
    "subset_list = [\"Incident Year\",\n",
    "               \"Incident Month\",\n",
    "               \"Incident Day\",\n",
    "               \"Operator\",\n",
    "               \"State\",\n",
    "               \"Airport\", \n",
    "               \"Flight Phase\",\n",
    "               \"Species Name\"]\n",
    "\n",
    "# We're saving them into a new dataframe\n",
    "df = pd.DataFrame(data=df, columns=subset_list)\n",
    "\n",
    "# ...dropping NA's\n",
    "df = df.dropna(thresh=8)\n",
    "\n",
    "# ...and resetting the index \n",
    "df = df.reset_index(drop=True)\n"
   ]
  },
  {
   "cell_type": "markdown",
   "metadata": {
    "_cell_guid": "4a5b7f2f-a64b-44a3-9742-2160c07d72a9",
    "_execution_state": "idle",
    "_uuid": "17543c469d6533fcfee968e3ed7848f2fa336a80"
   },
   "source": [
    "\n",
    "\n",
    "# Plotting <a id=\"#plotting\"></a>\n",
    "### Tools for fancy plots, charts, and graphs\n",
    "\n",
    "---\n",
    "\n",
    "In our dataframe, each row is a unique birdstrike report and each row also only has one Operator. One operator may show up multiple times if they reported multiple birdstrikes so if we count the number of times an Operator shows up, we will have the number of birdstrikes the operator was involved in.\n",
    "<br><br>\n",
    "\n",
    "We'll use these three methods to count the number of birdstrikes for each operator, then separate the data, and insert the separate arrays into the x- and y-axes:\n",
    "\n",
    "* `value_counts()`: This is a method that counts how many times a thing shows up in the array. For example in the Operator column, it will return the Airline Operator names and how many times each one was counted. This will work for any of our columns, so keep that in mind.\n",
    "<br><br>\n",
    "\n",
    "* `get_values()`: Returns all the unique values and the number of times they occur.\n",
    "<br><br>\n",
    "\n",
    "* `index`: This was oe of the \"Handy Data Exploration Methods\" and is how we access the index of the dataframe.\n",
    "\n",
    "*In the code below I'm also using the **head()** method to get just the first 10 operators*"
   ]
  },
  {
   "cell_type": "code",
   "execution_count": null,
   "metadata": {
    "_cell_guid": "53b80de7-9f6f-4cbc-811a-8b56ea6f8aef",
    "_execution_state": "idle",
    "_uuid": "1da7c9316b5e0f1c40d75b84fe8ca93de1b2439f",
    "collapsed": true
   },
   "outputs": [],
   "source": [
    "df[\"Operator\"].value_counts().head(10)"
   ]
  },
  {
   "cell_type": "markdown",
   "metadata": {
    "_cell_guid": "f9a162bf-51ed-4fc1-9422-a5732533aaad",
    "_uuid": "fb123a598dbdb8bc4ad0c48ed30db5d2b51bac8c"
   },
   "source": [
    "That looks like a nice table. I bet it would look cool in a barplot!  To do that we'll use `get_values()` and `index` to separate the Operators from the counts. Operators will go on the x-axis and counts will go on the y-axis."
   ]
  },
  {
   "cell_type": "code",
   "execution_count": null,
   "metadata": {
    "_cell_guid": "8e2384a0-92b0-4407-b926-621d3c948f5b",
    "_execution_state": "idle",
    "_uuid": "7833d8bbca082061ec096bf47c56b45f20fcc953",
    "collapsed": true
   },
   "outputs": [],
   "source": [
    "# Get the numnber of occurances of each operator\n",
    "operator_counts = df.Operator.value_counts()\n",
    "\n",
    "# Split and Save the Operator names in a variable\n",
    "operators = operator_counts.index\n",
    "\n",
    "# Split and Save the counts in another variable\n",
    "counts = operator_counts.get_values()"
   ]
  },
  {
   "cell_type": "markdown",
   "metadata": {
    "_cell_guid": "be6752bf-15b2-4daf-a3b0-1d64659d2c76",
    "_uuid": "d2daa6069fb197eb4339a6f4d9172c5e2bf68d83"
   },
   "source": [
    "### Bare minimum barplot<a id=\"#bareminimum\"></a>\n",
    "These arrays (operaters and counts) and this code are all you need to make the bare minimum barplot.\n",
    "\n",
    "`sns.barplot(x=operators, y=counts)`\n",
    "\n"
   ]
  },
  {
   "cell_type": "code",
   "execution_count": null,
   "metadata": {
    "_cell_guid": "af37505f-6c80-42f6-abaa-d98e8fa94126",
    "_execution_state": "idle",
    "_uuid": "bdcae0a38d5f44d8e80be16cd9cd7bef5bbef3aa",
    "collapsed": true
   },
   "outputs": [],
   "source": [
    "# Create barplot object\n",
    "barplot = sns.barplot(x=operators, y=counts)"
   ]
  },
  {
   "cell_type": "markdown",
   "metadata": {
    "_cell_guid": "a0d50c4c-33dc-4b4b-88b2-d1eb636b92a5",
    "_uuid": "0b30215b7c811ed13b805ab71575eda6a3d16600"
   },
   "source": [
    "### Subsetting <a id=\"#sbusetting\"></a>\n",
    "The plot above shows every single unique airline operator in the dataset and there are too many to fit on the plot.  This is not something you should be proud of and certainly don't hang it up on your refrigerator. When this happens, you need to get creative and plot more specifically. One way to be more specific is to plot the first 5 or 10 by taking a \"slice\" or subset like this:\n",
    "`x=operators[:10], y=counts[:10]`\n",
    "<br><br> \n",
    "There are many ways to filter the data, this is just a convenient one because they are sorted."
   ]
  },
  {
   "cell_type": "code",
   "execution_count": null,
   "metadata": {
    "_cell_guid": "6c7b6ab6-68c5-4e30-b671-a99a7365eabb",
    "_execution_state": "idle",
    "_uuid": "6d9ef19eca6efce1326eca5c8c7f6d39d19083d3",
    "collapsed": true
   },
   "outputs": [],
   "source": [
    "# Create barplot object\n",
    "barplot = sns.barplot(x=operators[:10], y=counts[:10])"
   ]
  },
  {
   "cell_type": "markdown",
   "metadata": {
    "_cell_guid": "3eedc295-fc22-4aac-8566-e80cb5c862c8",
    "_uuid": "009406411114d628520def1d4655f909bf65c18e"
   },
   "source": [
    "### Rotating labels <a id=\"#rotating\"></a>\n",
    "The barplot looks like a barplot now! But the labels are all on jumbled up so we don't want to start autographing and selling them yet.\n",
    "\n",
    "This is how you rotate the 'xtick labels'\n",
    "\n",
    "Play around with it! Try 90, 45, 30, 69, 1, -95, 420, -214. Try them all!\n",
    "\n",
    "`plt.xticks(rotation=90)`\n",
    "\n"
   ]
  },
  {
   "cell_type": "code",
   "execution_count": null,
   "metadata": {
    "_cell_guid": "2d2fcbe7-c0b2-4841-84c6-adb9a6d51be6",
    "_execution_state": "idle",
    "_uuid": "96cf9b890204578a3ddc5aa7e50ccf4905cd09e6",
    "collapsed": true
   },
   "outputs": [],
   "source": [
    "# Create barplot object\n",
    "plt.xticks(rotation=90)\n",
    "barplot = sns.barplot(x=operators[:10], y=counts[:10])"
   ]
  },
  {
   "cell_type": "markdown",
   "metadata": {
    "_cell_guid": "5ca3b0a6-4cc3-40c0-aa55-1d26a279b58a",
    "_uuid": "fdf9bb29d81ab1187dda40ea4030f31f56c9847e"
   },
   "source": [
    "### Changing the color palette <a id=\"#palette\"></a>\n",
    "\n",
    "The Seaborn colors look pretty cool by default and there are six variations of their default theme: deep, muted, pastel, bright, dark, and colorblind. You can use one of the Matplotlib or Seaborn built-in palettes or *make your own*.\n",
    "<br><br>\n",
    "\n",
    "Make a list of colors:\n",
    "\n",
    "> `my_palette = [\"SlateGray\", \"CornflowerBlue\", \"PeachPuff\", \"MediumSeaGreen\"]`\n",
    "\n",
    "Use sns.color_palette() to create a palette object\n",
    "\n",
    "> `current_palette = sns.color_palette(my_palette)`\n",
    "\n",
    "and sns.set_palette() to set the palette and tell it how many colors you need (we want 10). \n",
    "\n",
    "> `sns.set_palette(current_palette, 10)`\n",
    "<br><br>\n",
    "\n",
    "These websites show some of the different color schemes and are way more helpful than I'll ever be so take a look at them.\n",
    "\n",
    "http://seaborn.pydata.org/tutorial/color_palettes.html \n",
    "\n",
    "https://chrisalbon.com/python/seaborn_color_palettes.html\n"
   ]
  },
  {
   "cell_type": "code",
   "execution_count": null,
   "metadata": {
    "_cell_guid": "73311a5d-8158-40e4-8aac-fcf97ba4245d",
    "_execution_state": "idle",
    "_uuid": "938dc421eab20b62be8a175cd19b9be8a0c7d7c1",
    "collapsed": true
   },
   "outputs": [],
   "source": [
    "# Create and Set a color palette with ridiculous color names\n",
    "my_palette = [\"SlateGray\", \"CornflowerBlue\", \"Gold\", \"SpringGreen\"]\n",
    "current_palette = sns.color_palette(my_palette)\n",
    "sns.set_palette(current_palette, 10)\n",
    "\n",
    "# Rotate the x-axis labels\n",
    "plt.xticks(rotation=90)\n",
    "\n",
    "# Create the barplot object\n",
    "barplot = sns.barplot(x=operators[:10], y=counts[:10])"
   ]
  },
  {
   "cell_type": "markdown",
   "metadata": {
    "_cell_guid": "a7832c5d-f377-4352-9c2a-373f5f044009",
    "_uuid": "2c278e1d7793afeb006255059f97fb822d2a95aa"
   },
   "source": [
    "### Main Titles and Axis Titles <a id=\"#titles\"></a>\n",
    "We're almost there! But what are we looking at exactly? We see some airlines and some kind of count of something. If your best friend walked in and saw this bargraph would they know what it meant? \n",
    "<br><br>\n",
    "\n",
    "The answer is no, because we don't have titles.\n",
    "<br><br>\n",
    "\n",
    "Last but not least, your plots MUST have proper titles! It has been shown in countless studies that plotters, charters, and fancy graphs makers make 200% more money than people that don't use plot titles. I made that up, I have no idea if that's true. Regardless, a person in your industry should be able to look at your plot and understand what the plot is saying! Pretty colors, graphics, and lines mean nothing without some description of what they represent. \n",
    "\n",
    "Don't neglect your graphs - give them titles!"
   ]
  },
  {
   "cell_type": "code",
   "execution_count": null,
   "metadata": {
    "_cell_guid": "52f1b477-f348-4a57-ae71-c38bb337c482",
    "_execution_state": "idle",
    "_uuid": "ab2b7ff6cb017eb2d4d7392f85dd12c68a25465a",
    "collapsed": true,
    "scrolled": true
   },
   "outputs": [],
   "source": [
    "# Create and Set the color palette\n",
    "paired_palette = sns.color_palette(\"colorblind\")\n",
    "sns.set_palette(paired_palette, 10)\n",
    "\n",
    "# Rotate the x-labels\n",
    "plt.xticks(rotation=45)\n",
    "\n",
    "# Add the x-axis title\n",
    "plt.xlabel(\"x-axis Title: Airline operators\", fontsize=20)\n",
    "\n",
    "# Add the y-axis title\n",
    "plt.ylabel(\"y-axis Title: Number of birdstrikes\", fontsize=20)\n",
    "\n",
    "# Add the plot title\n",
    "plt.title(\"Main title: Birdstrikes per Airline Operator\", fontsize=20)\n",
    "\n",
    "# Create the plot\n",
    "barplot = sns.barplot(x=operators[:10], y=counts[:10])"
   ]
  },
  {
   "cell_type": "markdown",
   "metadata": {
    "_cell_guid": "656a8a92-e2c5-493a-a3e0-6cf8db34e835",
    "_uuid": "5fe40c93fa0be7209e9766445f8ae07dadcca3f8"
   },
   "source": [
    "# Your turn!\n",
    "---\n",
    "### You have these arrays to play with:\n",
    "* Incident Year \n",
    "    * df[\"Incident Year\"]\n",
    "* Incident Month\n",
    "    * df[\"Incident Month\"]\n",
    "* Incident Day\n",
    "    * df[\"Incident Day\"]\n",
    "* Operator\n",
    "    * df[\"Operator\"]\n",
    "* State\n",
    "    * df[\"State\"]\n",
    "* Airport\n",
    "    * df[\"Airport\"]\n",
    "* Flight Phase\n",
    "    * df[\"Flight Phase\"]\n",
    "* Species Name\n",
    "    * df[\"Species Name\"]\n",
    "<br><br>\n",
    "\n",
    "### We used these functions:\n",
    "- get_values()\n",
    "- value_counts()\n",
    "- index\n",
    "<br><br>\n",
    "\n",
    "### Excercises:\n",
    "\n",
    "1) Try swapping the x- and y-axes\n",
    "- What happens if you use month vs species? \n",
    "    - Hint: It will be a disaster if you don't trim it down somehow!\n",
    "- Can you see any kind of seasonal relationship?\n",
    "- Which phase of flight has the most number of strikes?\n",
    "<br><br>\n",
    "\n",
    "2) Try rotating labels 30 or 45 degrees \n",
    "- What does it look like if you rotate it 180? \n",
    "- 270? \n",
    "- How about the y-labels?\n",
    "<br><br>\n",
    "\n",
    "3) Play around with the color palettes \n",
    "- I guarantee you can waste an hour of your day with colors alone.\n",
    "<br><br>\n",
    "\n",
    "You can and should use whatever tools you want, these are just the ones I talked about. In fact, I probably used like 100 more than I told you about just in making this tutorial. Remember back when I said I wanted to make a different tutorial that would blow your socks off with data lazers? Well, at some point I was like \"omg so much stuff\" and now here we are.\n",
    "<br><br>\n",
    "\n"
   ]
  },
  {
   "cell_type": "code",
   "execution_count": null,
   "metadata": {
    "_cell_guid": "05974c48-e9aa-437e-a6d9-39c63f2e52d7",
    "_uuid": "4d530cb93f88f8ab97ec6721510bcfa38b952492",
    "collapsed": true
   },
   "outputs": [],
   "source": []
  }
 ],
 "metadata": {
  "kernelspec": {
   "display_name": "Python 3",
   "language": "python",
   "name": "python3"
  },
  "language_info": {
   "codemirror_mode": {
    "name": "ipython",
    "version": 3
   },
   "file_extension": ".py",
   "mimetype": "text/x-python",
   "name": "python",
   "nbconvert_exporter": "python",
   "pygments_lexer": "ipython3",
   "version": "3.6.4"
  }
 },
 "nbformat": 4,
 "nbformat_minor": 1
}
